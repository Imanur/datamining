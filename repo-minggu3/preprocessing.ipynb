{
  "nbformat": 4,
  "nbformat_minor": 0,
  "metadata": {
    "colab": {
      "name": "preprocessing.ipynb",
      "provenance": [],
      "collapsed_sections": [],
      "authorship_tag": "ABX9TyOYXlpPK3joTS2YtxxJ09Dx",
      "include_colab_link": true
    },
    "kernelspec": {
      "name": "python3",
      "display_name": "Python 3"
    },
    "language_info": {
      "name": "python"
    }
  },
  "cells": [
    {
      "cell_type": "markdown",
      "metadata": {
        "id": "view-in-github",
        "colab_type": "text"
      },
      "source": [
        "<a href=\"https://colab.research.google.com/github/Imanur/datamining/blob/main/preprocessing.ipynb\" target=\"_parent\"><img src=\"https://colab.research.google.com/assets/colab-badge.svg\" alt=\"Open In Colab\"/></a>"
      ]
    },
    {
      "cell_type": "code",
      "metadata": {
        "id": "bYg8qytIMSZf"
      },
      "source": [
        "import numpy as np\n",
        "import matplotlib.pyplot as plt\n",
        "import pandas as pd"
      ],
      "execution_count": 63,
      "outputs": []
    },
    {
      "cell_type": "code",
      "metadata": {
        "id": "2FlhngNIM5A5"
      },
      "source": [
        "#importdataset \n",
        "#pemanggilan Dataset dengan nama Datanilaimhs.csv\n",
        "dataset = pd.read_csv('DataMasak2.csv')\n",
        "x = dataset.iloc[:, :-1].values\n",
        "y = dataset.iloc[:, -1].values"
      ],
      "execution_count": 82,
      "outputs": []
    },
    {
      "cell_type": "code",
      "metadata": {
        "colab": {
          "base_uri": "https://localhost:8080/"
        },
        "id": "gmGGgz04M-Vp",
        "outputId": "bcc565e6-80e7-4619-9cc0-b48034aca344"
      },
      "source": [
        "print(x)"
      ],
      "execution_count": 83,
      "outputs": [
        {
          "output_type": "stream",
          "text": [
            "[['Wortel' 50.0 30000.0]\n",
            " ['Timun' 72.0 35000.0]\n",
            " ['Kubis' 12.0 20000.0]\n",
            " ['Brokoli' nan 18000.0]\n",
            " ['Tomat' 38.0 48000.0]\n",
            " ['Terong' 12.0 nan]\n",
            " ['Jengkol' 22.0 70000.0]\n",
            " ['Kacang' 55.0 25000.0]]\n"
          ],
          "name": "stdout"
        }
      ]
    },
    {
      "cell_type": "code",
      "metadata": {
        "colab": {
          "base_uri": "https://localhost:8080/"
        },
        "id": "sf-rUZAkNB3J",
        "outputId": "e6ccf666-0bfa-4310-9363-8383fe9da292"
      },
      "source": [
        "print(y)"
      ],
      "execution_count": 84,
      "outputs": [
        {
          "output_type": "stream",
          "text": [
            "['No' 'Yes' 'Yes' 'No' 'Yes' 'No' 'No' 'Yes']\n"
          ],
          "name": "stdout"
        }
      ]
    },
    {
      "cell_type": "code",
      "metadata": {
        "id": "lgVRQ7o3NIyb"
      },
      "source": [
        "#Menghilangkan  missing value\n",
        "from sklearn.impute import SimpleImputer\n",
        "#missing values = nilai data yang digunakan sebagai penanda bahwa nilai aslinya tidak ada \n",
        "#strategy : menggunakan rata-rata kolom mean bisa juga menggunakan median, most_frequent(modus) atau constant\n",
        "imputer = SimpleImputer(missing_values=np.nan, strategy='mean')\n",
        "imputer.fit(x[:, 1:3])\n",
        "x[:, 1:3] = imputer.transform(x[:, 1:3])"
      ],
      "execution_count": 85,
      "outputs": []
    },
    {
      "cell_type": "code",
      "metadata": {
        "colab": {
          "base_uri": "https://localhost:8080/"
        },
        "id": "gZIlY60VNKnv",
        "outputId": "4b460329-dceb-41d2-cbd4-998b5bc8ee7f"
      },
      "source": [
        "print(x)"
      ],
      "execution_count": 86,
      "outputs": [
        {
          "output_type": "stream",
          "text": [
            "[['Wortel' 50.0 30000.0]\n",
            " ['Timun' 72.0 35000.0]\n",
            " ['Kubis' 12.0 20000.0]\n",
            " ['Brokoli' 37.285714285714285 18000.0]\n",
            " ['Tomat' 38.0 48000.0]\n",
            " ['Terong' 12.0 35142.857142857145]\n",
            " ['Jengkol' 22.0 70000.0]\n",
            " ['Kacang' 55.0 25000.0]]\n"
          ],
          "name": "stdout"
        }
      ]
    },
    {
      "cell_type": "code",
      "metadata": {
        "colab": {
          "base_uri": "https://localhost:8080/"
        },
        "id": "YdRuQexnNOex",
        "outputId": "0d3a486d-d9be-46de-c0d4-840330fc82e7"
      },
      "source": [
        "print(y)"
      ],
      "execution_count": 87,
      "outputs": [
        {
          "output_type": "stream",
          "text": [
            "['No' 'Yes' 'Yes' 'No' 'Yes' 'No' 'No' 'Yes']\n"
          ],
          "name": "stdout"
        }
      ]
    },
    {
      "cell_type": "code",
      "metadata": {
        "id": "f-kf32WYNTBG"
      },
      "source": [
        "#Enconding Data kategori(Atribut)\n",
        "from sklearn.compose import ColumnTransformer\n",
        "from sklearn.preprocessing import OneHotEncoder\n",
        "ct = ColumnTransformer(transformers=[('encoder',OneHotEncoder(),[0])], remainder='passthrough')\n",
        "x = np.array(ct.fit_transform(x))"
      ],
      "execution_count": 88,
      "outputs": []
    },
    {
      "cell_type": "code",
      "metadata": {
        "colab": {
          "base_uri": "https://localhost:8080/"
        },
        "id": "PNoZGX35NU5z",
        "outputId": "e0c23992-23f5-4c35-83a6-70b53e513e80"
      },
      "source": [
        "print(x)"
      ],
      "execution_count": 89,
      "outputs": [
        {
          "output_type": "stream",
          "text": [
            "[[0.0 0.0 0.0 0.0 0.0 0.0 0.0 1.0 50.0 30000.0]\n",
            " [0.0 0.0 0.0 0.0 0.0 1.0 0.0 0.0 72.0 35000.0]\n",
            " [0.0 0.0 0.0 1.0 0.0 0.0 0.0 0.0 12.0 20000.0]\n",
            " [1.0 0.0 0.0 0.0 0.0 0.0 0.0 0.0 37.285714285714285 18000.0]\n",
            " [0.0 0.0 0.0 0.0 0.0 0.0 1.0 0.0 38.0 48000.0]\n",
            " [0.0 0.0 0.0 0.0 1.0 0.0 0.0 0.0 12.0 35142.857142857145]\n",
            " [0.0 1.0 0.0 0.0 0.0 0.0 0.0 0.0 22.0 70000.0]\n",
            " [0.0 0.0 1.0 0.0 0.0 0.0 0.0 0.0 55.0 25000.0]]\n"
          ],
          "name": "stdout"
        }
      ]
    },
    {
      "cell_type": "code",
      "metadata": {
        "id": "ig6nSLCbNarW"
      },
      "source": [
        "#Encoding Data kategori(class/label)\n",
        "from sklearn.preprocessing import LabelEncoder\n",
        "le = LabelEncoder()\n",
        "y = le.fit_transform(y)"
      ],
      "execution_count": 90,
      "outputs": []
    },
    {
      "cell_type": "code",
      "metadata": {
        "colab": {
          "base_uri": "https://localhost:8080/"
        },
        "id": "sibH3JRGNdRg",
        "outputId": "5c42d7d5-1677-4a08-9895-f1720188fd19"
      },
      "source": [
        "print(y)"
      ],
      "execution_count": 91,
      "outputs": [
        {
          "output_type": "stream",
          "text": [
            "[0 1 1 0 1 0 0 1]\n"
          ],
          "name": "stdout"
        }
      ]
    },
    {
      "cell_type": "code",
      "metadata": {
        "id": "2GVN7XufNl7o"
      },
      "source": [
        "#Membagi dataset ke dalam training set dan test set\n",
        "from sklearn.model_selection import train_test_split\n",
        "x_train, x_test, y_train, y_test = train_test_split(x, y, test_size = 0.2, random_state = 1)"
      ],
      "execution_count": 92,
      "outputs": []
    },
    {
      "cell_type": "code",
      "metadata": {
        "colab": {
          "base_uri": "https://localhost:8080/"
        },
        "id": "lEXlYzZnQGpF",
        "outputId": "ce6d176e-51c0-4261-f240-9f4380e97dcf"
      },
      "source": [
        "print(x_train)"
      ],
      "execution_count": 93,
      "outputs": [
        {
          "output_type": "stream",
          "text": [
            "[[0.0 0.0 0.0 0.0 0.0 1.0 0.0 0.0 72.0 35000.0]\n",
            " [0.0 1.0 0.0 0.0 0.0 0.0 0.0 0.0 22.0 70000.0]\n",
            " [0.0 0.0 0.0 0.0 0.0 0.0 0.0 1.0 50.0 30000.0]\n",
            " [0.0 0.0 0.0 0.0 0.0 0.0 1.0 0.0 38.0 48000.0]\n",
            " [1.0 0.0 0.0 0.0 0.0 0.0 0.0 0.0 37.285714285714285 18000.0]\n",
            " [0.0 0.0 0.0 0.0 1.0 0.0 0.0 0.0 12.0 35142.857142857145]]\n"
          ],
          "name": "stdout"
        }
      ]
    },
    {
      "cell_type": "code",
      "metadata": {
        "colab": {
          "base_uri": "https://localhost:8080/"
        },
        "id": "DnBaxbcMQK70",
        "outputId": "663ab8d3-547b-4223-fa33-3a9cc1e48f2b"
      },
      "source": [
        "print(x_test)"
      ],
      "execution_count": 94,
      "outputs": [
        {
          "output_type": "stream",
          "text": [
            "[[0.0 0.0 1.0 0.0 0.0 0.0 0.0 0.0 55.0 25000.0]\n",
            " [0.0 0.0 0.0 1.0 0.0 0.0 0.0 0.0 12.0 20000.0]]\n"
          ],
          "name": "stdout"
        }
      ]
    },
    {
      "cell_type": "code",
      "metadata": {
        "colab": {
          "base_uri": "https://localhost:8080/"
        },
        "id": "a6VenyEzQhUi",
        "outputId": "b867a9a5-1e3d-4822-e781-d7a713ecad21"
      },
      "source": [
        "print(y_train)"
      ],
      "execution_count": 95,
      "outputs": [
        {
          "output_type": "stream",
          "text": [
            "[1 0 0 1 0 0]\n"
          ],
          "name": "stdout"
        }
      ]
    },
    {
      "cell_type": "code",
      "metadata": {
        "colab": {
          "base_uri": "https://localhost:8080/"
        },
        "id": "2K6csuOpQj5u",
        "outputId": "c16f0ae7-c03d-4bd4-822b-d1811721dc74"
      },
      "source": [
        "print(y_test)"
      ],
      "execution_count": 96,
      "outputs": [
        {
          "output_type": "stream",
          "text": [
            "[1 1]\n"
          ],
          "name": "stdout"
        }
      ]
    },
    {
      "cell_type": "code",
      "metadata": {
        "id": "3baxE24mQpcg"
      },
      "source": [
        "#Feature Scaling\n",
        "from sklearn.preprocessing import StandardScaler\n",
        "sc = StandardScaler()\n",
        "x_train[:, 3:] = sc.fit_transform(x_train[:, 3:])\n",
        "x_test[:, 3:] = sc.transform(x_test[:, 3:])"
      ],
      "execution_count": 97,
      "outputs": []
    },
    {
      "cell_type": "code",
      "metadata": {
        "colab": {
          "base_uri": "https://localhost:8080/"
        },
        "id": "44VHOwi6Qq_6",
        "outputId": "95042b07-bfe5-47f8-e568-881af5760cae"
      },
      "source": [
        "print(x_train)"
      ],
      "execution_count": 98,
      "outputs": [
        {
          "output_type": "stream",
          "text": [
            "[[0.0 0.0 0.0 0.0 -0.44721359549995787 2.2360679774997894\n",
            "  -0.44721359549995787 -0.44721359549995787 1.7349262410999888\n",
            "  -0.2673117047916372]\n",
            " [0.0 1.0 0.0 0.0 -0.44721359549995787 -0.44721359549995787\n",
            "  -0.44721359549995787 -0.44721359549995787 -0.8582019484444782\n",
            "  1.8799462517313474]\n",
            " [0.0 0.0 0.0 0.0 -0.44721359549995787 -0.44721359549995787\n",
            "  -0.44721359549995787 2.2360679774997894 0.5939498377004233\n",
            "  -0.5740628414377779]\n",
            " [0.0 0.0 0.0 0.0 -0.44721359549995787 -0.44721359549995787\n",
            "  2.2360679774997894 -0.44721359549995787 -0.02840092779024873\n",
            "  0.5302412504883286]\n",
            " [1.0 0.0 0.0 0.0 -0.44721359549995787 -0.44721359549995787\n",
            "  -0.44721359549995787 -0.44721359549995787 -0.0654456162123126\n",
            "  -1.3102655693885155]\n",
            " [0.0 0.0 0.0 0.0 2.2360679774997894 -0.44721359549995787\n",
            "  -0.44721359549995787 -0.44721359549995787 -1.3768275863533717\n",
            "  -0.2585473866017473]]\n"
          ],
          "name": "stdout"
        }
      ]
    },
    {
      "cell_type": "code",
      "metadata": {
        "colab": {
          "base_uri": "https://localhost:8080/"
        },
        "id": "UjRCYS6IQuWy",
        "outputId": "6178166a-bd13-4a83-bb95-079e5b93e5e8"
      },
      "source": [
        "print(x_test)"
      ],
      "execution_count": 99,
      "outputs": [
        {
          "output_type": "stream",
          "text": [
            "[[0.0 0.0 1.0 0.0 -0.44721359549995787 -0.44721359549995787\n",
            "  -0.44721359549995787 -0.44721359549995787 0.8532626566548701\n",
            "  -0.8808139780839185]\n",
            " [0.0 0.0 0.0 1.0 -0.44721359549995787 -0.44721359549995787\n",
            "  -0.44721359549995787 -0.44721359549995787 -1.3768275863533717\n",
            "  -1.1875651147300592]]\n"
          ],
          "name": "stdout"
        }
      ]
    }
  ]
}